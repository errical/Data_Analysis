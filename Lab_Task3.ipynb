{
  "cells": [
    {
      "cell_type": "markdown",
      "metadata": {
        "id": "yZUfT3i7CjcU"
      },
      "source": [
        "# Lab Task 01"
      ]
    },
    {
      "cell_type": "markdown",
      "metadata": {
        "id": "cFvXKV7FCd5E"
      },
      "source": [
        "Write a function to return True if the first and last number of a given list is same. If numbers are different then return False."
      ]
    },
    {
      "cell_type": "code",
      "execution_count": 23,
      "metadata": {
        "id": "GXktR4r5Coyi"
      },
      "outputs": [
        {
          "name": "stdout",
          "output_type": "stream",
          "text": [
            "True\n",
            "False\n"
          ]
        }
      ],
      "source": [
        "def isSame(List):\n",
        "    if(List[0] == List[-1]):\n",
        "        return True\n",
        "    else:\n",
        "        return False\n",
        "\n",
        "# Given:\n",
        "numbers_x = [10, 20, 30, 40, 10]\n",
        "numbers_y = [75, 65, 35, 75, 30]\n",
        "\n",
        "\n",
        "print(isSame(numbers_x))\n",
        "print(isSame(numbers_y))\n",
        "# Expected Output:\n",
        "# Given list: [10, 20, 30, 40, 10]\n",
        "# result is True\n",
        "\n",
        "\n",
        "# numbers_y = [75, 65, 35, 75, 30]\n",
        "# result is False"
      ]
    },
    {
      "cell_type": "markdown",
      "metadata": {
        "id": "UwFZ7OjICrlQ"
      },
      "source": [
        "\n",
        "\n",
        "\n",
        "\n",
        "# Lab Task 02"
      ]
    },
    {
      "cell_type": "markdown",
      "metadata": {
        "id": "GWQ2AhPcCufC"
      },
      "source": [
        "Create two NumPy arrays of the same shape and perform element-wise addition on them.\n",
        "\n",
        "Calculate the element-wise product of two NumPy arrays."
      ]
    },
    {
      "cell_type": "code",
      "execution_count": 24,
      "metadata": {
        "id": "jZNfvManCxjQ"
      },
      "outputs": [
        {
          "name": "stdout",
          "output_type": "stream",
          "text": [
            "Sum of Two Arrays : \n",
            "[ 7  9 11 13 15]\n",
            "Product of Two Arrays: \n",
            "[ 6 14 24 36 50]\n"
          ]
        }
      ],
      "source": [
        "#code here\n",
        "import numpy as np\n",
        "\n",
        "array_1 = np.array([1,2,3,4,5])\n",
        "array_2 = np.array([6,7,8,9,10])\n",
        "\n",
        "sum = array_1 + array_2\n",
        "product = array_1 * array_2\n",
        "\n",
        "print(\"Sum of Two Arrays : \")\n",
        "print(sum)\n",
        "print(\"Product of Two Arrays: \")\n",
        "print(product)"
      ]
    },
    {
      "cell_type": "markdown",
      "metadata": {
        "id": "DR3RvooloecS"
      },
      "source": [
        "# Lab Task 03"
      ]
    },
    {
      "cell_type": "markdown",
      "metadata": {
        "id": "Oi-yFvItoWzc"
      },
      "source": [
        "Reshape a 1D NumPy array into a 2D array with dimensions (3, 4).\n",
        "\n",
        "Concatenate two NumPy arrays horizontally and vertically."
      ]
    },
    {
      "cell_type": "code",
      "execution_count": 25,
      "metadata": {
        "id": "c379PMYOobDK"
      },
      "outputs": [
        {
          "name": "stdout",
          "output_type": "stream",
          "text": [
            "[[ 0  1  2  3]\n",
            " [ 4  5  6  7]\n",
            " [ 8  9 10 11]\n",
            " [12 13 14 15]\n",
            " [16 17 18 19]\n",
            " [20 21 22 23]]\n",
            "[[ 0  1  2  3 12 13 14 15]\n",
            " [ 4  5  6  7 16 17 18 19]\n",
            " [ 8  9 10 11 20 21 22 23]]\n"
          ]
        }
      ],
      "source": [
        "#code here\n",
        "array_1 = np.arange(0,12).reshape(3,4)\n",
        "array_2 = np.arange(12,24).reshape(3,4)\n",
        "\n",
        "print(np.concatenate((array_1,array_2),axis =0))\n",
        "print(np.concatenate((array_1,array_2),axis = 1))"
      ]
    },
    {
      "cell_type": "markdown",
      "metadata": {
        "id": "QyAHL3cppQvA"
      },
      "source": [
        "# Lab Task 04\n",
        "\n"
      ]
    },
    {
      "cell_type": "markdown",
      "metadata": {
        "id": "n9ljQa5NopJD"
      },
      "source": [
        "\n",
        "## Online Store Shopping Cart\n",
        "Write a Python program to simulate the online store's shopping cart system. The program should use a while loop to provide an interactive shopping experience.\n",
        "\n",
        "\n",
        "### Tasks:\n",
        "* Initialize an empty list called shopping_cart to store items.\n",
        "* Display a welcome message and available products.\n",
        "* Loop should be iterating over AI Response Simulator and Investment decision and keep asking for user input.\n",
        "* Prompt the user to enter the number corresponding to the product they want to add to the cart.\n",
        "* Check if the user entered 'q'. If so, break the loop.\n",
        "* Convert the choice to an integer and validate it within the valid range (1 to 3).\n",
        "* Based on the user's choice, add the selected product to the shopping_cart list.\n",
        "* Display a confirmation message indicating the added product.\n",
        "* Continue the loop to allow the user to add more products or proceed to checkout.\n",
        "* After the loop ends, display the contents of the shopping cart.\n",
        "* Display a goodbye message.\n",
        "* End the program.\n"
      ]
    },
    {
      "cell_type": "code",
      "execution_count": 29,
      "metadata": {
        "id": "9huwf9wVpWFf"
      },
      "outputs": [
        {
          "name": "stdout",
          "output_type": "stream",
          "text": [
            "---------- WELCOME ----------------\n",
            "Add items in cart\n",
            "Items :  ['Burger', 'Pizza', 'Fries']\n",
            "invalid choice\n",
            "Add items in cart\n",
            "Items :  ['Burger', 'Pizza', 'Fries']\n",
            "Product has been added into the card.\n",
            "Thank you for shopping.\n"
          ]
        },
        {
          "data": {
            "text/plain": [
              "['Burger']"
            ]
          },
          "execution_count": 29,
          "metadata": {},
          "output_type": "execute_result"
        }
      ],
      "source": [
        "#Code here\n",
        "shopping_cart = []\n",
        "products =[\"Burger\",\"Pizza\",\"Fries\"]\n",
        "print(\"---------- WELCOME ----------------\")\n",
        "choice = 'y'\n",
        "validate = [1,2,3]\n",
        "\n",
        "while(choice !='q'):\n",
        "    print(\"Add items in cart\")\n",
        "    print(\"Items : \",products)\n",
        "    pick = int(input(\"Pick a Product : \"))\n",
        "    if(pick not in validate):\n",
        "        print(\"invalid choice\")\n",
        "        continue\n",
        "    shopping_cart.append(products[pick-1])\n",
        "    print(\"Product has been added into the card.\")\n",
        "\n",
        "    Input = input(\"Do you want to continue ?(y/q)\")\n",
        "    choice = Input\n",
        "    if(choice ==\"q\"):\n",
        "        print(\"Thank you for shopping.\")\n",
        "\n",
        "shopping_cart\n",
        "\n",
        "\n",
        "\n",
        "\n",
        "\n",
        "\n",
        "\n",
        "\n",
        "\n",
        "\n"
      ]
    },
    {
      "cell_type": "markdown",
      "metadata": {
        "id": "Dv9DtQ3jp6mq"
      },
      "source": [
        "# Lab Task 05"
      ]
    },
    {
      "cell_type": "markdown",
      "metadata": {
        "id": "2i6-zm_1ZAdn"
      },
      "source": [
        "\n",
        "## Email Classification\n",
        "Develope a tool which will classify an email.\n",
        "\n",
        "### Tasks:\n",
        "* Create a function classify_emails that takes a list of emails as an argument.\n",
        "* Inside the function, categorize emails into \"Important,\" \"Promotions,\" and \"Spam\" based on keywords and content analysis.\n",
        "* Loop through the emails and identify keywords to determine their category.\n",
        "* If an email contains keywords indicating importance, assign it as \"Important.\"\n",
        "* If an email contains keywords related to promotions or deals, assign it as \"Promotions.\"\n",
        "* If an email is suspected to be spam based on certain keywords or patterns, assign it as \"Spam.\"\n",
        "* Return three lists of emails for each category.\n",
        "* Print the lists."
      ]
    },
    {
      "cell_type": "code",
      "execution_count": 30,
      "metadata": {
        "id": "SnCGPkq-o84Z"
      },
      "outputs": [
        {
          "name": "stdout",
          "output_type": "stream",
          "text": [
            "Important : \n",
            "[\"['This email is very important']\"]\n",
            "Promotion : \n",
            "[\"['This email is for promotion']\"]\n",
            "Spam  : \n",
            "[\"['this email will go in spam folder']\"]\n"
          ]
        }
      ],
      "source": [
        "#code here\n",
        "\n",
        "def classify_emails(emails):\n",
        "    important = []\n",
        "    promotion = []\n",
        "    spam = []\n",
        "    for i in range(len(emails)):\n",
        "        email = emails[i]\n",
        "        email = str(email)\n",
        "        sp = True\n",
        "        if(\"important\" in email.lower() or \"importants\" in email.lower()):\n",
        "            important.append(email)\n",
        "            sp = False\n",
        "        if(\"promotion\" in email.lower() or \"promotions\" in email.lower() ):\n",
        "            promotion.append(email)\n",
        "            sp = False\n",
        "\n",
        "        if(sp):\n",
        "            spam.append(email)\n",
        "\n",
        "        # if(\"important\" not in email.lower() or \"importants\" not in email.lower() or \"promotion\" not in email.lower() or \"promotions\" not in email.lower()):\n",
        "        #     spam.append(email)\n",
        "    print(\"Important : \")\n",
        "    print(important)\n",
        "    print(\"Promotion : \")\n",
        "    print(promotion)\n",
        "    print(\"Spam  : \")\n",
        "    print(spam)\n",
        "    return important,promotion,spam\n",
        "\n",
        "Emails = [[\"This email is very important\"],[\"This email is for promotion\"],[\"this email will go in spam folder\"]]\n",
        "\n",
        "classified_emails = classify_emails(Emails)\n",
        "# classified_emails\n",
        "\n"
      ]
    },
    {
      "cell_type": "markdown",
      "metadata": {
        "id": "amtV-GLWpCC7"
      },
      "source": [
        "# Lab Task 06"
      ]
    },
    {
      "cell_type": "markdown",
      "metadata": {
        "id": "M2Zg-XsUpC72"
      },
      "source": [
        "## English-Spanish Dictionary\n",
        "You are creating a basic English-Spanish dictionary that allows users to look up English words and find their Spanish translations.\n",
        "\n",
        "\n",
        "### Tasks\n",
        "* Create a dictionary where English words are keys and their Spanish translations are values.\n",
        "* Ask the user to input an English word.\n",
        "* Check if the word exists in the dictionary.\n",
        "* If the word exists, print its Spanish translation.\n",
        "* If the word does not exist, inform the user that the translation is not available.\n",
        "* Implement a loop that allows the user to keep looking up words until they choose to exit.\n"
      ]
    },
    {
      "cell_type": "code",
      "execution_count": 32,
      "metadata": {
        "id": "7RKtYbMZpJdh"
      },
      "outputs": [
        {
          "name": "stdout",
          "output_type": "stream",
          "text": [
            "Spanish Translation :  este\n",
            "1. continue \n",
            "2. exit\n",
            "Spanish Translation :  padre\n",
            "1. continue \n",
            "2. exit\n"
          ]
        }
      ],
      "source": [
        "#code here\n",
        "\n",
        "def Is_in_Dic(word,dict):\n",
        "    for i in range(len(dict)):\n",
        "        if(word == list(dict.keys())[i]):\n",
        "            return True\n",
        "dictionery = {\"this\":\"este\",\n",
        "         \"father\":\"padre\",\n",
        "         \"friend\":\"amigo\"}\n",
        "\n",
        "\n",
        "\n",
        "while(True):\n",
        "    word = input(\"Enter English word  : \")\n",
        "    isExist =Is_in_Dic(word,dictionery)\n",
        "    if(isExist):\n",
        "        print(\"Spanish Translation : \",dictionery[word])\n",
        "    else:\n",
        "        print(\"Translation is not available\")\n",
        "\n",
        "    print(\"1. continue \")\n",
        "    print(\"2. exit\")\n",
        "\n",
        "    choice = int(input(\"Enter choice : \"))\n",
        "    if(choice == 2):\n",
        "        break\n",
        "    else:\n",
        "        continue\n",
        "\n",
        "\n",
        "    \n"
      ]
    },
    {
      "cell_type": "markdown",
      "metadata": {
        "id": "h_8wOMWitspv"
      },
      "source": [
        "# Lab Task 07"
      ]
    },
    {
      "cell_type": "markdown",
      "metadata": {
        "id": "Qq4VH1Jkts32"
      },
      "source": [
        "dataset link : https://raw.githubusercontent.com/TirendazAcademy/PANDAS-TUTORIAL/main/DataSets/vgsalesGlobale.csv\n",
        "#Exercise\n",
        "Use the dataset of Game, we have explored earlier and perform following operations.\n",
        "\n",
        "* Calculate the total global sales for all games in the dataset.\n",
        "* Find the game with the highest global sales.\n",
        "* Determine the average sales for each region (NA_Sales, EU_Sales, JP_Sales, Other_Sales).\n",
        "* Find the top 5 most popular game genres based on global sales.\n",
        "* Calculate the total sales for each genre in each region and find the most popular genre in North America (NA_Sales).\n",
        "* Display last 10 rows.\n",
        "* Determine the top 3 gaming platforms with the highest global sales.\n",
        "* Calculate the market share (percentage of global sales) for each genre.\n",
        "* Calculate the correlation coefficient between NA_Sales and EU_Sales. (.corr function)"
      ]
    },
    {
      "cell_type": "code",
      "execution_count": 33,
      "metadata": {},
      "outputs": [
        {
          "data": {
            "text/html": [
              "<div>\n",
              "<style scoped>\n",
              "    .dataframe tbody tr th:only-of-type {\n",
              "        vertical-align: middle;\n",
              "    }\n",
              "\n",
              "    .dataframe tbody tr th {\n",
              "        vertical-align: top;\n",
              "    }\n",
              "\n",
              "    .dataframe thead th {\n",
              "        text-align: right;\n",
              "    }\n",
              "</style>\n",
              "<table border=\"1\" class=\"dataframe\">\n",
              "  <thead>\n",
              "    <tr style=\"text-align: right;\">\n",
              "      <th></th>\n",
              "      <th>Name</th>\n",
              "      <th>Platform</th>\n",
              "      <th>Year</th>\n",
              "      <th>Genre</th>\n",
              "      <th>Publisher</th>\n",
              "      <th>NA_Sales</th>\n",
              "      <th>EU_Sales</th>\n",
              "      <th>JP_Sales</th>\n",
              "      <th>Other_Sales</th>\n",
              "      <th>Global_Sales</th>\n",
              "    </tr>\n",
              "    <tr>\n",
              "      <th>Rank</th>\n",
              "      <th></th>\n",
              "      <th></th>\n",
              "      <th></th>\n",
              "      <th></th>\n",
              "      <th></th>\n",
              "      <th></th>\n",
              "      <th></th>\n",
              "      <th></th>\n",
              "      <th></th>\n",
              "      <th></th>\n",
              "    </tr>\n",
              "  </thead>\n",
              "  <tbody>\n",
              "    <tr>\n",
              "      <th>1</th>\n",
              "      <td>Wii Sports</td>\n",
              "      <td>Wii</td>\n",
              "      <td>2006.0</td>\n",
              "      <td>Sports</td>\n",
              "      <td>Nintendo</td>\n",
              "      <td>41.49</td>\n",
              "      <td>29.02</td>\n",
              "      <td>3.77</td>\n",
              "      <td>8.46</td>\n",
              "      <td>82.74</td>\n",
              "    </tr>\n",
              "    <tr>\n",
              "      <th>2</th>\n",
              "      <td>Super Mario Bros.</td>\n",
              "      <td>NES</td>\n",
              "      <td>1985.0</td>\n",
              "      <td>Platform</td>\n",
              "      <td>Nintendo</td>\n",
              "      <td>29.08</td>\n",
              "      <td>3.58</td>\n",
              "      <td>6.81</td>\n",
              "      <td>0.77</td>\n",
              "      <td>40.24</td>\n",
              "    </tr>\n",
              "    <tr>\n",
              "      <th>3</th>\n",
              "      <td>Mario Kart Wii</td>\n",
              "      <td>Wii</td>\n",
              "      <td>2008.0</td>\n",
              "      <td>Racing</td>\n",
              "      <td>Nintendo</td>\n",
              "      <td>15.85</td>\n",
              "      <td>12.88</td>\n",
              "      <td>3.79</td>\n",
              "      <td>3.31</td>\n",
              "      <td>35.82</td>\n",
              "    </tr>\n",
              "    <tr>\n",
              "      <th>4</th>\n",
              "      <td>Wii Sports Resort</td>\n",
              "      <td>Wii</td>\n",
              "      <td>2009.0</td>\n",
              "      <td>Sports</td>\n",
              "      <td>Nintendo</td>\n",
              "      <td>15.75</td>\n",
              "      <td>11.01</td>\n",
              "      <td>3.28</td>\n",
              "      <td>2.96</td>\n",
              "      <td>33.00</td>\n",
              "    </tr>\n",
              "    <tr>\n",
              "      <th>5</th>\n",
              "      <td>Pokemon Red/Pokemon Blue</td>\n",
              "      <td>GB</td>\n",
              "      <td>1996.0</td>\n",
              "      <td>Role-Playing</td>\n",
              "      <td>Nintendo</td>\n",
              "      <td>11.27</td>\n",
              "      <td>8.89</td>\n",
              "      <td>10.22</td>\n",
              "      <td>1.00</td>\n",
              "      <td>31.37</td>\n",
              "    </tr>\n",
              "    <tr>\n",
              "      <th>...</th>\n",
              "      <td>...</td>\n",
              "      <td>...</td>\n",
              "      <td>...</td>\n",
              "      <td>...</td>\n",
              "      <td>...</td>\n",
              "      <td>...</td>\n",
              "      <td>...</td>\n",
              "      <td>...</td>\n",
              "      <td>...</td>\n",
              "      <td>...</td>\n",
              "    </tr>\n",
              "    <tr>\n",
              "      <th>16596</th>\n",
              "      <td>Woody Woodpecker in Crazy Castle 5</td>\n",
              "      <td>GBA</td>\n",
              "      <td>2002.0</td>\n",
              "      <td>Platform</td>\n",
              "      <td>Kemco</td>\n",
              "      <td>0.01</td>\n",
              "      <td>0.00</td>\n",
              "      <td>0.00</td>\n",
              "      <td>0.00</td>\n",
              "      <td>0.01</td>\n",
              "    </tr>\n",
              "    <tr>\n",
              "      <th>16597</th>\n",
              "      <td>Men in Black II: Alien Escape</td>\n",
              "      <td>GC</td>\n",
              "      <td>2003.0</td>\n",
              "      <td>Shooter</td>\n",
              "      <td>Infogrames</td>\n",
              "      <td>0.01</td>\n",
              "      <td>0.00</td>\n",
              "      <td>0.00</td>\n",
              "      <td>0.00</td>\n",
              "      <td>0.01</td>\n",
              "    </tr>\n",
              "    <tr>\n",
              "      <th>16598</th>\n",
              "      <td>SCORE International Baja 1000: The Official Game</td>\n",
              "      <td>PS2</td>\n",
              "      <td>2008.0</td>\n",
              "      <td>Racing</td>\n",
              "      <td>Activision</td>\n",
              "      <td>0.00</td>\n",
              "      <td>0.00</td>\n",
              "      <td>0.00</td>\n",
              "      <td>0.00</td>\n",
              "      <td>0.01</td>\n",
              "    </tr>\n",
              "    <tr>\n",
              "      <th>16599</th>\n",
              "      <td>Know How 2</td>\n",
              "      <td>DS</td>\n",
              "      <td>2010.0</td>\n",
              "      <td>Puzzle</td>\n",
              "      <td>7G//AMES</td>\n",
              "      <td>0.00</td>\n",
              "      <td>0.01</td>\n",
              "      <td>0.00</td>\n",
              "      <td>0.00</td>\n",
              "      <td>0.01</td>\n",
              "    </tr>\n",
              "    <tr>\n",
              "      <th>16600</th>\n",
              "      <td>Spirits &amp; Spells</td>\n",
              "      <td>GBA</td>\n",
              "      <td>2003.0</td>\n",
              "      <td>Platform</td>\n",
              "      <td>Wanadoo</td>\n",
              "      <td>0.01</td>\n",
              "      <td>0.00</td>\n",
              "      <td>0.00</td>\n",
              "      <td>0.00</td>\n",
              "      <td>0.01</td>\n",
              "    </tr>\n",
              "  </tbody>\n",
              "</table>\n",
              "<p>16598 rows × 10 columns</p>\n",
              "</div>"
            ],
            "text/plain": [
              "                                                   Name Platform    Year  \\\n",
              "Rank                                                                       \n",
              "1                                            Wii Sports      Wii  2006.0   \n",
              "2                                     Super Mario Bros.      NES  1985.0   \n",
              "3                                        Mario Kart Wii      Wii  2008.0   \n",
              "4                                     Wii Sports Resort      Wii  2009.0   \n",
              "5                              Pokemon Red/Pokemon Blue       GB  1996.0   \n",
              "...                                                 ...      ...     ...   \n",
              "16596                Woody Woodpecker in Crazy Castle 5      GBA  2002.0   \n",
              "16597                     Men in Black II: Alien Escape       GC  2003.0   \n",
              "16598  SCORE International Baja 1000: The Official Game      PS2  2008.0   \n",
              "16599                                        Know How 2       DS  2010.0   \n",
              "16600                                  Spirits & Spells      GBA  2003.0   \n",
              "\n",
              "              Genre   Publisher  NA_Sales  EU_Sales  JP_Sales  Other_Sales  \\\n",
              "Rank                                                                         \n",
              "1            Sports    Nintendo     41.49     29.02      3.77         8.46   \n",
              "2          Platform    Nintendo     29.08      3.58      6.81         0.77   \n",
              "3            Racing    Nintendo     15.85     12.88      3.79         3.31   \n",
              "4            Sports    Nintendo     15.75     11.01      3.28         2.96   \n",
              "5      Role-Playing    Nintendo     11.27      8.89     10.22         1.00   \n",
              "...             ...         ...       ...       ...       ...          ...   \n",
              "16596      Platform       Kemco      0.01      0.00      0.00         0.00   \n",
              "16597       Shooter  Infogrames      0.01      0.00      0.00         0.00   \n",
              "16598        Racing  Activision      0.00      0.00      0.00         0.00   \n",
              "16599        Puzzle    7G//AMES      0.00      0.01      0.00         0.00   \n",
              "16600      Platform     Wanadoo      0.01      0.00      0.00         0.00   \n",
              "\n",
              "       Global_Sales  \n",
              "Rank                 \n",
              "1             82.74  \n",
              "2             40.24  \n",
              "3             35.82  \n",
              "4             33.00  \n",
              "5             31.37  \n",
              "...             ...  \n",
              "16596          0.01  \n",
              "16597          0.01  \n",
              "16598          0.01  \n",
              "16599          0.01  \n",
              "16600          0.01  \n",
              "\n",
              "[16598 rows x 10 columns]"
            ]
          },
          "execution_count": 33,
          "metadata": {},
          "output_type": "execute_result"
        }
      ],
      "source": [
        "import pandas as pd\n",
        "\n",
        "df = pd.read_csv(\"https://raw.githubusercontent.com/TirendazAcademy/PANDAS-TUTORIAL/main/DataSets/vgsalesGlobale.csv\",index_col=\"Rank\")\n",
        "df"
      ]
    },
    {
      "cell_type": "code",
      "execution_count": 34,
      "metadata": {},
      "outputs": [
        {
          "data": {
            "text/plain": [
              "Genre\n",
              "Action          1751.18\n",
              "Adventure        239.04\n",
              "Fighting         448.91\n",
              "Misc             809.96\n",
              "Platform         831.37\n",
              "Puzzle           244.95\n",
              "Racing           732.04\n",
              "Role-Playing     927.37\n",
              "Shooter         1037.37\n",
              "Simulation       392.20\n",
              "Sports          1330.93\n",
              "Strategy         175.12\n",
              "Name: Global_Sales, dtype: float64"
            ]
          },
          "execution_count": 34,
          "metadata": {},
          "output_type": "execute_result"
        }
      ],
      "source": [
        "# Total Global Sales for each Genre\n",
        "global_sales=df.groupby(\"Genre\")\n",
        "sum = global_sales[\"Global_Sales\"].sum()\n",
        "sum"
      ]
    },
    {
      "cell_type": "code",
      "execution_count": 35,
      "metadata": {},
      "outputs": [
        {
          "data": {
            "text/plain": [
              "'Sports'"
            ]
          },
          "execution_count": 35,
          "metadata": {},
          "output_type": "execute_result"
        }
      ],
      "source": [
        "\"Highest Global Sales\"\n",
        "df[\"Genre\"][df[\"Global_Sales\"].idxmax()]"
      ]
    },
    {
      "cell_type": "code",
      "execution_count": 36,
      "metadata": {},
      "outputs": [
        {
          "data": {
            "text/html": [
              "<div>\n",
              "<style scoped>\n",
              "    .dataframe tbody tr th:only-of-type {\n",
              "        vertical-align: middle;\n",
              "    }\n",
              "\n",
              "    .dataframe tbody tr th {\n",
              "        vertical-align: top;\n",
              "    }\n",
              "\n",
              "    .dataframe thead th {\n",
              "        text-align: right;\n",
              "    }\n",
              "</style>\n",
              "<table border=\"1\" class=\"dataframe\">\n",
              "  <thead>\n",
              "    <tr style=\"text-align: right;\">\n",
              "      <th></th>\n",
              "      <th>Name</th>\n",
              "      <th>Platform</th>\n",
              "      <th>Year</th>\n",
              "      <th>Genre</th>\n",
              "      <th>Publisher</th>\n",
              "      <th>NA_Sales</th>\n",
              "      <th>EU_Sales</th>\n",
              "      <th>JP_Sales</th>\n",
              "      <th>Other_Sales</th>\n",
              "      <th>Global_Sales</th>\n",
              "    </tr>\n",
              "    <tr>\n",
              "      <th>Rank</th>\n",
              "      <th></th>\n",
              "      <th></th>\n",
              "      <th></th>\n",
              "      <th></th>\n",
              "      <th></th>\n",
              "      <th></th>\n",
              "      <th></th>\n",
              "      <th></th>\n",
              "      <th></th>\n",
              "      <th></th>\n",
              "    </tr>\n",
              "  </thead>\n",
              "  <tbody>\n",
              "    <tr>\n",
              "      <th>1</th>\n",
              "      <td>Wii Sports</td>\n",
              "      <td>Wii</td>\n",
              "      <td>2006.0</td>\n",
              "      <td>Sports</td>\n",
              "      <td>Nintendo</td>\n",
              "      <td>41.49</td>\n",
              "      <td>29.02</td>\n",
              "      <td>3.77</td>\n",
              "      <td>8.46</td>\n",
              "      <td>82.74</td>\n",
              "    </tr>\n",
              "    <tr>\n",
              "      <th>2</th>\n",
              "      <td>Super Mario Bros.</td>\n",
              "      <td>NES</td>\n",
              "      <td>1985.0</td>\n",
              "      <td>Platform</td>\n",
              "      <td>Nintendo</td>\n",
              "      <td>29.08</td>\n",
              "      <td>3.58</td>\n",
              "      <td>6.81</td>\n",
              "      <td>0.77</td>\n",
              "      <td>40.24</td>\n",
              "    </tr>\n",
              "    <tr>\n",
              "      <th>3</th>\n",
              "      <td>Mario Kart Wii</td>\n",
              "      <td>Wii</td>\n",
              "      <td>2008.0</td>\n",
              "      <td>Racing</td>\n",
              "      <td>Nintendo</td>\n",
              "      <td>15.85</td>\n",
              "      <td>12.88</td>\n",
              "      <td>3.79</td>\n",
              "      <td>3.31</td>\n",
              "      <td>35.82</td>\n",
              "    </tr>\n",
              "    <tr>\n",
              "      <th>4</th>\n",
              "      <td>Wii Sports Resort</td>\n",
              "      <td>Wii</td>\n",
              "      <td>2009.0</td>\n",
              "      <td>Sports</td>\n",
              "      <td>Nintendo</td>\n",
              "      <td>15.75</td>\n",
              "      <td>11.01</td>\n",
              "      <td>3.28</td>\n",
              "      <td>2.96</td>\n",
              "      <td>33.00</td>\n",
              "    </tr>\n",
              "    <tr>\n",
              "      <th>5</th>\n",
              "      <td>Pokemon Red/Pokemon Blue</td>\n",
              "      <td>GB</td>\n",
              "      <td>1996.0</td>\n",
              "      <td>Role-Playing</td>\n",
              "      <td>Nintendo</td>\n",
              "      <td>11.27</td>\n",
              "      <td>8.89</td>\n",
              "      <td>10.22</td>\n",
              "      <td>1.00</td>\n",
              "      <td>31.37</td>\n",
              "    </tr>\n",
              "  </tbody>\n",
              "</table>\n",
              "</div>"
            ],
            "text/plain": [
              "                          Name Platform    Year         Genre Publisher  \\\n",
              "Rank                                                                      \n",
              "1                   Wii Sports      Wii  2006.0        Sports  Nintendo   \n",
              "2            Super Mario Bros.      NES  1985.0      Platform  Nintendo   \n",
              "3               Mario Kart Wii      Wii  2008.0        Racing  Nintendo   \n",
              "4            Wii Sports Resort      Wii  2009.0        Sports  Nintendo   \n",
              "5     Pokemon Red/Pokemon Blue       GB  1996.0  Role-Playing  Nintendo   \n",
              "\n",
              "      NA_Sales  EU_Sales  JP_Sales  Other_Sales  Global_Sales  \n",
              "Rank                                                           \n",
              "1        41.49     29.02      3.77         8.46         82.74  \n",
              "2        29.08      3.58      6.81         0.77         40.24  \n",
              "3        15.85     12.88      3.79         3.31         35.82  \n",
              "4        15.75     11.01      3.28         2.96         33.00  \n",
              "5        11.27      8.89     10.22         1.00         31.37  "
            ]
          },
          "execution_count": 36,
          "metadata": {},
          "output_type": "execute_result"
        }
      ],
      "source": [
        "# Most Popular Genres\n",
        "\n",
        "df.sort_values(\"Global_Sales\",ascending=False).head(5)"
      ]
    },
    {
      "cell_type": "code",
      "execution_count": 37,
      "metadata": {},
      "outputs": [
        {
          "data": {
            "text/html": [
              "<div>\n",
              "<style scoped>\n",
              "    .dataframe tbody tr th:only-of-type {\n",
              "        vertical-align: middle;\n",
              "    }\n",
              "\n",
              "    .dataframe tbody tr th {\n",
              "        vertical-align: top;\n",
              "    }\n",
              "\n",
              "    .dataframe thead th {\n",
              "        text-align: right;\n",
              "    }\n",
              "</style>\n",
              "<table border=\"1\" class=\"dataframe\">\n",
              "  <thead>\n",
              "    <tr style=\"text-align: right;\">\n",
              "      <th></th>\n",
              "      <th>Name</th>\n",
              "      <th>Platform</th>\n",
              "      <th>Year</th>\n",
              "      <th>Genre</th>\n",
              "      <th>Publisher</th>\n",
              "      <th>NA_Sales</th>\n",
              "      <th>EU_Sales</th>\n",
              "      <th>JP_Sales</th>\n",
              "      <th>Other_Sales</th>\n",
              "      <th>Global_Sales</th>\n",
              "    </tr>\n",
              "    <tr>\n",
              "      <th>Rank</th>\n",
              "      <th></th>\n",
              "      <th></th>\n",
              "      <th></th>\n",
              "      <th></th>\n",
              "      <th></th>\n",
              "      <th></th>\n",
              "      <th></th>\n",
              "      <th></th>\n",
              "      <th></th>\n",
              "      <th></th>\n",
              "    </tr>\n",
              "  </thead>\n",
              "  <tbody>\n",
              "    <tr>\n",
              "      <th>16591</th>\n",
              "      <td>Mega Brain Boost</td>\n",
              "      <td>DS</td>\n",
              "      <td>2008.0</td>\n",
              "      <td>Puzzle</td>\n",
              "      <td>Majesco Entertainment</td>\n",
              "      <td>0.01</td>\n",
              "      <td>0.00</td>\n",
              "      <td>0.00</td>\n",
              "      <td>0.0</td>\n",
              "      <td>0.01</td>\n",
              "    </tr>\n",
              "    <tr>\n",
              "      <th>16592</th>\n",
              "      <td>Chou Ezaru wa Akai Hana: Koi wa Tsuki ni Shiru...</td>\n",
              "      <td>PSV</td>\n",
              "      <td>2016.0</td>\n",
              "      <td>Action</td>\n",
              "      <td>dramatic create</td>\n",
              "      <td>0.00</td>\n",
              "      <td>0.00</td>\n",
              "      <td>0.01</td>\n",
              "      <td>0.0</td>\n",
              "      <td>0.01</td>\n",
              "    </tr>\n",
              "    <tr>\n",
              "      <th>16593</th>\n",
              "      <td>Eiyuu Densetsu: Sora no Kiseki Material Collec...</td>\n",
              "      <td>PSP</td>\n",
              "      <td>2007.0</td>\n",
              "      <td>Role-Playing</td>\n",
              "      <td>Falcom Corporation</td>\n",
              "      <td>0.00</td>\n",
              "      <td>0.00</td>\n",
              "      <td>0.01</td>\n",
              "      <td>0.0</td>\n",
              "      <td>0.01</td>\n",
              "    </tr>\n",
              "    <tr>\n",
              "      <th>16594</th>\n",
              "      <td>Myst IV: Revelation</td>\n",
              "      <td>PC</td>\n",
              "      <td>2004.0</td>\n",
              "      <td>Adventure</td>\n",
              "      <td>Ubisoft</td>\n",
              "      <td>0.01</td>\n",
              "      <td>0.00</td>\n",
              "      <td>0.00</td>\n",
              "      <td>0.0</td>\n",
              "      <td>0.01</td>\n",
              "    </tr>\n",
              "    <tr>\n",
              "      <th>16595</th>\n",
              "      <td>Plushees</td>\n",
              "      <td>DS</td>\n",
              "      <td>2008.0</td>\n",
              "      <td>Simulation</td>\n",
              "      <td>Destineer</td>\n",
              "      <td>0.01</td>\n",
              "      <td>0.00</td>\n",
              "      <td>0.00</td>\n",
              "      <td>0.0</td>\n",
              "      <td>0.01</td>\n",
              "    </tr>\n",
              "    <tr>\n",
              "      <th>16596</th>\n",
              "      <td>Woody Woodpecker in Crazy Castle 5</td>\n",
              "      <td>GBA</td>\n",
              "      <td>2002.0</td>\n",
              "      <td>Platform</td>\n",
              "      <td>Kemco</td>\n",
              "      <td>0.01</td>\n",
              "      <td>0.00</td>\n",
              "      <td>0.00</td>\n",
              "      <td>0.0</td>\n",
              "      <td>0.01</td>\n",
              "    </tr>\n",
              "    <tr>\n",
              "      <th>16597</th>\n",
              "      <td>Men in Black II: Alien Escape</td>\n",
              "      <td>GC</td>\n",
              "      <td>2003.0</td>\n",
              "      <td>Shooter</td>\n",
              "      <td>Infogrames</td>\n",
              "      <td>0.01</td>\n",
              "      <td>0.00</td>\n",
              "      <td>0.00</td>\n",
              "      <td>0.0</td>\n",
              "      <td>0.01</td>\n",
              "    </tr>\n",
              "    <tr>\n",
              "      <th>16598</th>\n",
              "      <td>SCORE International Baja 1000: The Official Game</td>\n",
              "      <td>PS2</td>\n",
              "      <td>2008.0</td>\n",
              "      <td>Racing</td>\n",
              "      <td>Activision</td>\n",
              "      <td>0.00</td>\n",
              "      <td>0.00</td>\n",
              "      <td>0.00</td>\n",
              "      <td>0.0</td>\n",
              "      <td>0.01</td>\n",
              "    </tr>\n",
              "    <tr>\n",
              "      <th>16599</th>\n",
              "      <td>Know How 2</td>\n",
              "      <td>DS</td>\n",
              "      <td>2010.0</td>\n",
              "      <td>Puzzle</td>\n",
              "      <td>7G//AMES</td>\n",
              "      <td>0.00</td>\n",
              "      <td>0.01</td>\n",
              "      <td>0.00</td>\n",
              "      <td>0.0</td>\n",
              "      <td>0.01</td>\n",
              "    </tr>\n",
              "    <tr>\n",
              "      <th>16600</th>\n",
              "      <td>Spirits &amp; Spells</td>\n",
              "      <td>GBA</td>\n",
              "      <td>2003.0</td>\n",
              "      <td>Platform</td>\n",
              "      <td>Wanadoo</td>\n",
              "      <td>0.01</td>\n",
              "      <td>0.00</td>\n",
              "      <td>0.00</td>\n",
              "      <td>0.0</td>\n",
              "      <td>0.01</td>\n",
              "    </tr>\n",
              "  </tbody>\n",
              "</table>\n",
              "</div>"
            ],
            "text/plain": [
              "                                                    Name Platform    Year  \\\n",
              "Rank                                                                        \n",
              "16591                                   Mega Brain Boost       DS  2008.0   \n",
              "16592  Chou Ezaru wa Akai Hana: Koi wa Tsuki ni Shiru...      PSV  2016.0   \n",
              "16593  Eiyuu Densetsu: Sora no Kiseki Material Collec...      PSP  2007.0   \n",
              "16594                                Myst IV: Revelation       PC  2004.0   \n",
              "16595                                           Plushees       DS  2008.0   \n",
              "16596                 Woody Woodpecker in Crazy Castle 5      GBA  2002.0   \n",
              "16597                      Men in Black II: Alien Escape       GC  2003.0   \n",
              "16598   SCORE International Baja 1000: The Official Game      PS2  2008.0   \n",
              "16599                                         Know How 2       DS  2010.0   \n",
              "16600                                   Spirits & Spells      GBA  2003.0   \n",
              "\n",
              "              Genre              Publisher  NA_Sales  EU_Sales  JP_Sales  \\\n",
              "Rank                                                                       \n",
              "16591        Puzzle  Majesco Entertainment      0.01      0.00      0.00   \n",
              "16592        Action        dramatic create      0.00      0.00      0.01   \n",
              "16593  Role-Playing     Falcom Corporation      0.00      0.00      0.01   \n",
              "16594     Adventure                Ubisoft      0.01      0.00      0.00   \n",
              "16595    Simulation              Destineer      0.01      0.00      0.00   \n",
              "16596      Platform                  Kemco      0.01      0.00      0.00   \n",
              "16597       Shooter             Infogrames      0.01      0.00      0.00   \n",
              "16598        Racing             Activision      0.00      0.00      0.00   \n",
              "16599        Puzzle               7G//AMES      0.00      0.01      0.00   \n",
              "16600      Platform                Wanadoo      0.01      0.00      0.00   \n",
              "\n",
              "       Other_Sales  Global_Sales  \n",
              "Rank                              \n",
              "16591          0.0          0.01  \n",
              "16592          0.0          0.01  \n",
              "16593          0.0          0.01  \n",
              "16594          0.0          0.01  \n",
              "16595          0.0          0.01  \n",
              "16596          0.0          0.01  \n",
              "16597          0.0          0.01  \n",
              "16598          0.0          0.01  \n",
              "16599          0.0          0.01  \n",
              "16600          0.0          0.01  "
            ]
          },
          "execution_count": 37,
          "metadata": {},
          "output_type": "execute_result"
        }
      ],
      "source": [
        "# Last 10 Rows\n",
        "\n",
        "df.tail(10)"
      ]
    },
    {
      "cell_type": "code",
      "execution_count": 38,
      "metadata": {},
      "outputs": [
        {
          "name": "stdout",
          "output_type": "stream",
          "text": [
            "Average of NA Sales :  0.26466742981082064\n",
            "Average of EU Sales :  0.14665200626581515\n",
            "Average of EU Sales :  0.077781660441017\n",
            "Average of EU Sales :  0.0480630196409206\n"
          ]
        }
      ],
      "source": [
        "rows = df.shape[0]\n",
        "print(\"Average of NA Sales : \",df[\"NA_Sales\"].sum()/rows)\n",
        "print(\"Average of EU Sales : \",df[\"EU_Sales\"].sum()/rows)\n",
        "print(\"Average of EU Sales : \",df[\"JP_Sales\"].sum()/rows)\n",
        "print(\"Average of EU Sales : \",df[\"Other_Sales\"].sum()/rows)"
      ]
    },
    {
      "cell_type": "code",
      "execution_count": 18,
      "metadata": {},
      "outputs": [
        {
          "name": "stdout",
          "output_type": "stream",
          "text": [
            "Total Sales of   Sports  :  683.35\n",
            "Total Sales of   Platform  :  447.05\n",
            "Total Sales of   Racing  :  359.41999999999996\n",
            "Total Sales of   Role-Playing  :  327.28\n",
            "Total Sales of   Puzzle  :  123.78\n",
            "Total Sales of   Misc  :  410.24\n",
            "Total Sales of   Shooter  :  582.6\n",
            "Total Sales of   Simulation  :  183.30999999999997\n",
            "Total Sales of   Action  :  877.83\n",
            "Total Sales of   Fighting  :  223.58999999999997\n",
            "Total Sales of   Adventure  :  105.80000000000001\n",
            "Total Sales of   Strategy  :  68.69999999999999\n",
            "Total Sales of   Sports  :  376.85\n",
            "Total Sales of   Platform  :  201.63000000000002\n",
            "Total Sales of   Racing  :  238.39000000000001\n",
            "Total Sales of   Role-Playing  :  188.05999999999997\n",
            "Total Sales of   Puzzle  :  50.779999999999994\n",
            "Total Sales of   Misc  :  215.98000000000002\n",
            "Total Sales of   Shooter  :  313.27000000000004\n",
            "Total Sales of   Simulation  :  113.38000000000001\n",
            "Total Sales of   Action  :  525.0\n",
            "Total Sales of   Fighting  :  101.32000000000001\n",
            "Total Sales of   Adventure  :  64.13\n",
            "Total Sales of   Strategy  :  45.339999999999996\n",
            "Total Sales of   Sports  :  135.37\n",
            "Total Sales of   Platform  :  130.77\n",
            "Total Sales of   Racing  :  56.68999999999999\n",
            "Total Sales of   Role-Playing  :  352.31\n",
            "Total Sales of   Puzzle  :  57.309999999999995\n",
            "Total Sales of   Misc  :  107.76\n",
            "Total Sales of   Shooter  :  38.28\n",
            "Total Sales of   Simulation  :  63.7\n",
            "Total Sales of   Action  :  159.95000000000002\n",
            "Total Sales of   Fighting  :  87.35000000000001\n",
            "Total Sales of   Adventure  :  52.07\n",
            "Total Sales of   Strategy  :  49.46000000000001\n"
          ]
        }
      ],
      "source": [
        "Genres = df[\"Genre\"].unique()\n",
        "Genre = df.groupby(\"Genre\")\n",
        "\n",
        "for i in range(len(Genres)):\n",
        "    print(\"Total Sales of  \",Genres[i],\" : \",Genre.get_group(Genres[i])[\"NA_Sales\"].sum())\n",
        "\n",
        "for i in range(len(Genres)):\n",
        "    print(\"Total Sales of  \",Genres[i],\" : \",Genre.get_group(Genres[i])[\"EU_Sales\"].sum())\n",
        "\n",
        "for i in range(len(Genres)):\n",
        "    print(\"Total Sales of  \",Genres[i],\" : \",Genre.get_group(Genres[i])[\"JP_Sales\"].sum())\n"
      ]
    },
    {
      "cell_type": "code",
      "execution_count": 39,
      "metadata": {},
      "outputs": [
        {
          "data": {
            "text/html": [
              "<div>\n",
              "<style scoped>\n",
              "    .dataframe tbody tr th:only-of-type {\n",
              "        vertical-align: middle;\n",
              "    }\n",
              "\n",
              "    .dataframe tbody tr th {\n",
              "        vertical-align: top;\n",
              "    }\n",
              "\n",
              "    .dataframe thead th {\n",
              "        text-align: right;\n",
              "    }\n",
              "</style>\n",
              "<table border=\"1\" class=\"dataframe\">\n",
              "  <thead>\n",
              "    <tr style=\"text-align: right;\">\n",
              "      <th></th>\n",
              "      <th>Name</th>\n",
              "      <th>Platform</th>\n",
              "      <th>Year</th>\n",
              "      <th>Genre</th>\n",
              "      <th>Publisher</th>\n",
              "      <th>NA_Sales</th>\n",
              "      <th>EU_Sales</th>\n",
              "      <th>JP_Sales</th>\n",
              "      <th>Other_Sales</th>\n",
              "      <th>Global_Sales</th>\n",
              "    </tr>\n",
              "    <tr>\n",
              "      <th>Rank</th>\n",
              "      <th></th>\n",
              "      <th></th>\n",
              "      <th></th>\n",
              "      <th></th>\n",
              "      <th></th>\n",
              "      <th></th>\n",
              "      <th></th>\n",
              "      <th></th>\n",
              "      <th></th>\n",
              "      <th></th>\n",
              "    </tr>\n",
              "  </thead>\n",
              "  <tbody>\n",
              "    <tr>\n",
              "      <th>2</th>\n",
              "      <td>Super Mario Bros.</td>\n",
              "      <td>NES</td>\n",
              "      <td>1985.0</td>\n",
              "      <td>Platform</td>\n",
              "      <td>Nintendo</td>\n",
              "      <td>29.08</td>\n",
              "      <td>3.58</td>\n",
              "      <td>6.81</td>\n",
              "      <td>0.77</td>\n",
              "      <td>40.24</td>\n",
              "    </tr>\n",
              "    <tr>\n",
              "      <th>7</th>\n",
              "      <td>New Super Mario Bros.</td>\n",
              "      <td>DS</td>\n",
              "      <td>2006.0</td>\n",
              "      <td>Platform</td>\n",
              "      <td>Nintendo</td>\n",
              "      <td>11.38</td>\n",
              "      <td>9.23</td>\n",
              "      <td>6.50</td>\n",
              "      <td>2.90</td>\n",
              "      <td>30.01</td>\n",
              "    </tr>\n",
              "    <tr>\n",
              "      <th>9</th>\n",
              "      <td>New Super Mario Bros. Wii</td>\n",
              "      <td>Wii</td>\n",
              "      <td>2009.0</td>\n",
              "      <td>Platform</td>\n",
              "      <td>Nintendo</td>\n",
              "      <td>14.59</td>\n",
              "      <td>7.06</td>\n",
              "      <td>4.70</td>\n",
              "      <td>2.26</td>\n",
              "      <td>28.62</td>\n",
              "    </tr>\n",
              "  </tbody>\n",
              "</table>\n",
              "</div>"
            ],
            "text/plain": [
              "                           Name Platform    Year     Genre Publisher  \\\n",
              "Rank                                                                   \n",
              "2             Super Mario Bros.      NES  1985.0  Platform  Nintendo   \n",
              "7         New Super Mario Bros.       DS  2006.0  Platform  Nintendo   \n",
              "9     New Super Mario Bros. Wii      Wii  2009.0  Platform  Nintendo   \n",
              "\n",
              "      NA_Sales  EU_Sales  JP_Sales  Other_Sales  Global_Sales  \n",
              "Rank                                                           \n",
              "2        29.08      3.58      6.81         0.77         40.24  \n",
              "7        11.38      9.23      6.50         2.90         30.01  \n",
              "9        14.59      7.06      4.70         2.26         28.62  "
            ]
          },
          "execution_count": 39,
          "metadata": {},
          "output_type": "execute_result"
        }
      ],
      "source": [
        "Platform = df[df[\"Genre\"] == \"Platform\"]\n",
        "Platform.head(3)"
      ]
    },
    {
      "cell_type": "code",
      "execution_count": 40,
      "metadata": {},
      "outputs": [
        {
          "data": {
            "text/plain": [
              "0.767726748370264"
            ]
          },
          "execution_count": 40,
          "metadata": {},
          "output_type": "execute_result"
        }
      ],
      "source": [
        "df[\"NA_Sales\"].corr(df[\"EU_Sales\"])"
      ]
    },
    {
      "cell_type": "code",
      "execution_count": null,
      "metadata": {},
      "outputs": [],
      "source": []
    }
  ],
  "metadata": {
    "colab": {
      "provenance": []
    },
    "kernelspec": {
      "display_name": "Python 3",
      "name": "python3"
    },
    "language_info": {
      "codemirror_mode": {
        "name": "ipython",
        "version": 3
      },
      "file_extension": ".py",
      "mimetype": "text/x-python",
      "name": "python",
      "nbconvert_exporter": "python",
      "pygments_lexer": "ipython3",
      "version": "3.11.3"
    }
  },
  "nbformat": 4,
  "nbformat_minor": 0
}
